{
 "cells": [
  {
   "cell_type": "code",
   "execution_count": 1,
   "id": "b84c8f41-8c9f-4e9c-9969-e98541e822af",
   "metadata": {},
   "outputs": [],
   "source": [
    "import pandas as pd\n",
    "import random\n",
    "import os\n",
    "import numpy as np\n",
    "import matplotlib.pyplot as plt\n",
    "from sklearn import preprocessing\n",
    "import tensorflow as tf\n",
    "from tensorflow.keras.callbacks import ModelCheckpoint, EarlyStopping"
   ]
  },
  {
   "cell_type": "code",
   "execution_count": 2,
   "id": "824a7f14-b0f5-49c8-b030-1fe9873c46f9",
   "metadata": {},
   "outputs": [],
   "source": [
    "class CFG:\n",
    "    SEED = 42"
   ]
  },
  {
   "cell_type": "code",
   "execution_count": 3,
   "id": "1d06422f-e260-46ad-846f-0cfa40d2801b",
   "metadata": {},
   "outputs": [],
   "source": [
    "def seed_everything(seed):\n",
    "    random.seed(seed)\n",
    "    os.environ['PYTHONHASHSEED'] = str(seed)\n",
    "    np.random.seed(seed)\n",
    "seed_everything(CFG.SEED) # Seed 고정"
   ]
  },
  {
   "cell_type": "code",
   "execution_count": 4,
   "id": "34f899fd-fbb4-48bc-9ec5-3eb5a68564cb",
   "metadata": {},
   "outputs": [],
   "source": [
    "train = pd.read_csv('데이콘_유전체/open (1)/train.csv')\n",
    "test = pd.read_csv('데이콘_유전체/open (1)/test.csv')"
   ]
  },
  {
   "cell_type": "code",
   "execution_count": 5,
   "id": "72b37f7e-a9f2-4640-8a0c-80ecdc626740",
   "metadata": {},
   "outputs": [],
   "source": [
    "def get_x_y(df):\n",
    "    if 'class' in df.columns:\n",
    "        df_x = df.drop(columns=['id', 'class'])\n",
    "        df_y = df['class']\n",
    "        return df_x, df_y\n",
    "    else:\n",
    "        df_x = df.drop(columns=['id'])\n",
    "        return df_x"
   ]
  },
  {
   "cell_type": "code",
   "execution_count": 6,
   "id": "05bd5dc3-5caf-4691-a836-d05d79353a5d",
   "metadata": {},
   "outputs": [],
   "source": [
    "x_train, y_train = get_x_y(train)\n",
    "x_test = get_x_y(test)"
   ]
  },
  {
   "cell_type": "code",
   "execution_count": 7,
   "id": "e8587ef2-194d-4c22-bd64-e9e3aa3507cc",
   "metadata": {},
   "outputs": [
    {
     "data": {
      "text/html": [
       "<div>\n",
       "<style scoped>\n",
       "    .dataframe tbody tr th:only-of-type {\n",
       "        vertical-align: middle;\n",
       "    }\n",
       "\n",
       "    .dataframe tbody tr th {\n",
       "        vertical-align: top;\n",
       "    }\n",
       "\n",
       "    .dataframe thead th {\n",
       "        text-align: right;\n",
       "    }\n",
       "</style>\n",
       "<table border=\"1\" class=\"dataframe\">\n",
       "  <thead>\n",
       "    <tr style=\"text-align: right;\">\n",
       "      <th></th>\n",
       "      <th>id</th>\n",
       "      <th>father</th>\n",
       "      <th>mother</th>\n",
       "      <th>gender</th>\n",
       "      <th>trait</th>\n",
       "      <th>SNP_01</th>\n",
       "      <th>SNP_02</th>\n",
       "      <th>SNP_03</th>\n",
       "      <th>SNP_04</th>\n",
       "      <th>SNP_05</th>\n",
       "      <th>SNP_06</th>\n",
       "      <th>SNP_07</th>\n",
       "      <th>SNP_08</th>\n",
       "      <th>SNP_09</th>\n",
       "      <th>SNP_10</th>\n",
       "      <th>SNP_11</th>\n",
       "      <th>SNP_12</th>\n",
       "      <th>SNP_13</th>\n",
       "      <th>SNP_14</th>\n",
       "      <th>SNP_15</th>\n",
       "    </tr>\n",
       "  </thead>\n",
       "  <tbody>\n",
       "    <tr>\n",
       "      <th>0</th>\n",
       "      <td>0</td>\n",
       "      <td>0</td>\n",
       "      <td>0</td>\n",
       "      <td>0</td>\n",
       "      <td>0</td>\n",
       "      <td>1</td>\n",
       "      <td>2</td>\n",
       "      <td>0</td>\n",
       "      <td>1</td>\n",
       "      <td>0</td>\n",
       "      <td>1</td>\n",
       "      <td>2</td>\n",
       "      <td>1</td>\n",
       "      <td>1</td>\n",
       "      <td>1</td>\n",
       "      <td>1</td>\n",
       "      <td>1</td>\n",
       "      <td>2</td>\n",
       "      <td>1</td>\n",
       "      <td>1</td>\n",
       "    </tr>\n",
       "    <tr>\n",
       "      <th>1</th>\n",
       "      <td>1</td>\n",
       "      <td>0</td>\n",
       "      <td>0</td>\n",
       "      <td>0</td>\n",
       "      <td>1</td>\n",
       "      <td>2</td>\n",
       "      <td>1</td>\n",
       "      <td>2</td>\n",
       "      <td>2</td>\n",
       "      <td>2</td>\n",
       "      <td>0</td>\n",
       "      <td>0</td>\n",
       "      <td>0</td>\n",
       "      <td>0</td>\n",
       "      <td>2</td>\n",
       "      <td>1</td>\n",
       "      <td>0</td>\n",
       "      <td>0</td>\n",
       "      <td>0</td>\n",
       "      <td>0</td>\n",
       "    </tr>\n",
       "    <tr>\n",
       "      <th>2</th>\n",
       "      <td>2</td>\n",
       "      <td>0</td>\n",
       "      <td>0</td>\n",
       "      <td>0</td>\n",
       "      <td>1</td>\n",
       "      <td>2</td>\n",
       "      <td>1</td>\n",
       "      <td>0</td>\n",
       "      <td>0</td>\n",
       "      <td>1</td>\n",
       "      <td>1</td>\n",
       "      <td>0</td>\n",
       "      <td>0</td>\n",
       "      <td>0</td>\n",
       "      <td>1</td>\n",
       "      <td>0</td>\n",
       "      <td>1</td>\n",
       "      <td>2</td>\n",
       "      <td>0</td>\n",
       "      <td>2</td>\n",
       "    </tr>\n",
       "    <tr>\n",
       "      <th>3</th>\n",
       "      <td>3</td>\n",
       "      <td>0</td>\n",
       "      <td>0</td>\n",
       "      <td>0</td>\n",
       "      <td>1</td>\n",
       "      <td>2</td>\n",
       "      <td>1</td>\n",
       "      <td>1</td>\n",
       "      <td>0</td>\n",
       "      <td>2</td>\n",
       "      <td>0</td>\n",
       "      <td>0</td>\n",
       "      <td>0</td>\n",
       "      <td>0</td>\n",
       "      <td>2</td>\n",
       "      <td>0</td>\n",
       "      <td>1</td>\n",
       "      <td>1</td>\n",
       "      <td>0</td>\n",
       "      <td>0</td>\n",
       "    </tr>\n",
       "    <tr>\n",
       "      <th>4</th>\n",
       "      <td>4</td>\n",
       "      <td>0</td>\n",
       "      <td>0</td>\n",
       "      <td>0</td>\n",
       "      <td>0</td>\n",
       "      <td>0</td>\n",
       "      <td>2</td>\n",
       "      <td>0</td>\n",
       "      <td>2</td>\n",
       "      <td>0</td>\n",
       "      <td>2</td>\n",
       "      <td>2</td>\n",
       "      <td>0</td>\n",
       "      <td>2</td>\n",
       "      <td>1</td>\n",
       "      <td>2</td>\n",
       "      <td>1</td>\n",
       "      <td>2</td>\n",
       "      <td>0</td>\n",
       "      <td>2</td>\n",
       "    </tr>\n",
       "  </tbody>\n",
       "</table>\n",
       "</div>"
      ],
      "text/plain": [
       "   id  father  mother  gender  trait  SNP_01  SNP_02  SNP_03  SNP_04  SNP_05  \\\n",
       "0   0       0       0       0      0       1       2       0       1       0   \n",
       "1   1       0       0       0      1       2       1       2       2       2   \n",
       "2   2       0       0       0      1       2       1       0       0       1   \n",
       "3   3       0       0       0      1       2       1       1       0       2   \n",
       "4   4       0       0       0      0       0       2       0       2       0   \n",
       "\n",
       "   SNP_06  SNP_07  SNP_08  SNP_09  SNP_10  SNP_11  SNP_12  SNP_13  SNP_14  \\\n",
       "0       1       2       1       1       1       1       1       2       1   \n",
       "1       0       0       0       0       2       1       0       0       0   \n",
       "2       1       0       0       0       1       0       1       2       0   \n",
       "3       0       0       0       0       2       0       1       1       0   \n",
       "4       2       2       0       2       1       2       1       2       0   \n",
       "\n",
       "   SNP_15  \n",
       "0       1  \n",
       "1       0  \n",
       "2       2  \n",
       "3       0  \n",
       "4       2  "
      ]
     },
     "execution_count": 7,
     "metadata": {},
     "output_type": "execute_result"
    }
   ],
   "source": [
    "from sklearn.preprocessing import LabelEncoder\n",
    "labelencoder=LabelEncoder()\n",
    "for col in train.columns :\n",
    "    train[col] = labelencoder.fit_transform(train[col])\n",
    "train.head()\n",
    "for col in test.columns :\n",
    "    test[col] = labelencoder.fit_transform(test[col])\n",
    "test.head()"
   ]
  },
  {
   "cell_type": "code",
   "execution_count": 8,
   "id": "efaea72f-8fa9-4933-8241-a5c71c376504",
   "metadata": {},
   "outputs": [],
   "source": [
    "y_train = train['class'].values\n",
    "x_train = train.drop(['class'], axis=1)\n",
    "x1 = x_train.values\n",
    "x1 = (x1 - x1.min()) / (x1.max() - x1.min())"
   ]
  },
  {
   "cell_type": "code",
   "execution_count": 9,
   "id": "d72f033a-3623-486f-afaf-d0afa010ab14",
   "metadata": {},
   "outputs": [],
   "source": [
    "x_test = test.iloc[:,5:]"
   ]
  },
  {
   "cell_type": "code",
   "execution_count": 10,
   "id": "1361eb91-0d91-4315-a64f-7b50b87576c0",
   "metadata": {},
   "outputs": [],
   "source": [
    "x2 = x_test.values\n",
    "x2 = (x2 - x2.min()) / (x2.max() - x2.min())"
   ]
  },
  {
   "cell_type": "code",
   "execution_count": 11,
   "id": "38586139-9713-4ecf-b286-a3db41caef61",
   "metadata": {},
   "outputs": [],
   "source": [
    "x_train = x_train.iloc[:,4:]"
   ]
  },
  {
   "cell_type": "code",
   "execution_count": 12,
   "id": "a5e79557-4ec5-4db2-8957-e8cdb35042e9",
   "metadata": {},
   "outputs": [],
   "source": [
    "x_test = test.iloc[:,4:]"
   ]
  },
  {
   "cell_type": "code",
   "execution_count": 13,
   "id": "b6295d71-06be-45b4-be2a-ba8dd4e768d1",
   "metadata": {},
   "outputs": [],
   "source": [
    "x_train = x_train.values\n",
    "x_test = x_test.values"
   ]
  },
  {
   "cell_type": "code",
   "execution_count": 14,
   "id": "455f4768-ed24-4bb3-8329-f71f97b44a0d",
   "metadata": {},
   "outputs": [],
   "source": [
    "from keras import regularizers"
   ]
  },
  {
   "cell_type": "code",
   "execution_count": 15,
   "id": "67576268-08c0-449f-83d7-fcaceecd2ecd",
   "metadata": {},
   "outputs": [
    {
     "name": "stdout",
     "output_type": "stream",
     "text": [
      "Model: \"sequential\"\n",
      "_________________________________________________________________\n",
      " Layer (type)                Output Shape              Param #   \n",
      "=================================================================\n",
      " dense (Dense)               (None, 8)                 136       \n",
      "                                                                 \n",
      " dense_1 (Dense)             (None, 16)                144       \n",
      "                                                                 \n",
      " dense_2 (Dense)             (None, 32)                544       \n",
      "                                                                 \n",
      " dense_3 (Dense)             (None, 16)                528       \n",
      "                                                                 \n",
      " dense_4 (Dense)             (None, 3)                 51        \n",
      "                                                                 \n",
      "=================================================================\n",
      "Total params: 1,403\n",
      "Trainable params: 1,403\n",
      "Non-trainable params: 0\n",
      "_________________________________________________________________\n"
     ]
    },
    {
     "name": "stderr",
     "output_type": "stream",
     "text": [
      "D:\\anaconda\\lib\\site-packages\\keras\\optimizers\\optimizer_v2\\adam.py:114: UserWarning: The `lr` argument is deprecated, use `learning_rate` instead.\n",
      "  super().__init__(name, **kwargs)\n"
     ]
    }
   ],
   "source": [
    "model = tf.keras.Sequential([\n",
    "        tf.keras.layers.Dense(units = 8, activation = 'ReLU', input_shape=(16,)),\n",
    "        tf.keras.layers.Dense(units = 16, activation = 'ReLU'),\n",
    "        tf.keras.layers.Dense(units = 32, activation = 'ReLU'),\n",
    "        tf.keras.layers.Dense(units = 16, activation = 'ReLU'),\n",
    "        tf.keras.layers.Dense(units = 3, activation = 'softmax')\n",
    "  ])\n",
    "\n",
    "model.compile(optimizer=tf.keras.optimizers.Adam(lr=0.001),\n",
    "            loss='sparse_categorical_crossentropy', metrics=['accuracy'])\n",
    "checkpoint = ModelCheckpoint(\"checkpoint\", monitor='accuracy', verbose=1, save_best_only=True )\n",
    "early = EarlyStopping(monitor='accuracy', patience=10, verbose=1, mode='auto')\n",
    "\n",
    "model.summary()"
   ]
  },
  {
   "cell_type": "code",
   "execution_count": 16,
   "id": "640acfbb-c0b5-490f-a520-16a90e6cccc1",
   "metadata": {
    "tags": []
   },
   "outputs": [
    {
     "name": "stdout",
     "output_type": "stream",
     "text": [
      "Epoch 1/70\n",
      "9/9 [==============================] - 1s 3ms/step - loss: 1.1063 - accuracy: 0.3702\n",
      "Epoch 2/70\n",
      "9/9 [==============================] - 0s 3ms/step - loss: 1.0088 - accuracy: 0.5420\n",
      "Epoch 3/70\n",
      "9/9 [==============================] - 0s 3ms/step - loss: 0.9242 - accuracy: 0.6641\n",
      "Epoch 4/70\n",
      "9/9 [==============================] - 0s 3ms/step - loss: 0.8405 - accuracy: 0.6832\n",
      "Epoch 5/70\n",
      "9/9 [==============================] - 0s 4ms/step - loss: 0.7594 - accuracy: 0.6870\n",
      "Epoch 6/70\n",
      "9/9 [==============================] - 0s 3ms/step - loss: 0.6875 - accuracy: 0.7023\n",
      "Epoch 7/70\n",
      "9/9 [==============================] - 0s 3ms/step - loss: 0.6284 - accuracy: 0.7099\n",
      "Epoch 8/70\n",
      "9/9 [==============================] - 0s 3ms/step - loss: 0.5829 - accuracy: 0.7176\n",
      "Epoch 9/70\n",
      "9/9 [==============================] - 0s 3ms/step - loss: 0.5476 - accuracy: 0.7290\n",
      "Epoch 10/70\n",
      "9/9 [==============================] - 0s 3ms/step - loss: 0.5190 - accuracy: 0.7557\n",
      "Epoch 11/70\n",
      "9/9 [==============================] - 0s 3ms/step - loss: 0.4951 - accuracy: 0.7672\n",
      "Epoch 12/70\n",
      "9/9 [==============================] - 0s 3ms/step - loss: 0.4732 - accuracy: 0.7672\n",
      "Epoch 13/70\n",
      "9/9 [==============================] - 0s 3ms/step - loss: 0.4586 - accuracy: 0.7786\n",
      "Epoch 14/70\n",
      "9/9 [==============================] - 0s 3ms/step - loss: 0.4390 - accuracy: 0.7863\n",
      "Epoch 15/70\n",
      "9/9 [==============================] - 0s 3ms/step - loss: 0.4240 - accuracy: 0.7939\n",
      "Epoch 16/70\n",
      "9/9 [==============================] - 0s 3ms/step - loss: 0.4077 - accuracy: 0.8092\n",
      "Epoch 17/70\n",
      "9/9 [==============================] - 0s 3ms/step - loss: 0.3908 - accuracy: 0.8130\n",
      "Epoch 18/70\n",
      "9/9 [==============================] - 0s 3ms/step - loss: 0.3729 - accuracy: 0.8282\n",
      "Epoch 19/70\n",
      "9/9 [==============================] - 0s 3ms/step - loss: 0.3608 - accuracy: 0.8359\n",
      "Epoch 20/70\n",
      "9/9 [==============================] - 0s 4ms/step - loss: 0.3397 - accuracy: 0.8588\n",
      "Epoch 21/70\n",
      "9/9 [==============================] - 0s 3ms/step - loss: 0.3243 - accuracy: 0.8740\n",
      "Epoch 22/70\n",
      "9/9 [==============================] - 0s 3ms/step - loss: 0.3062 - accuracy: 0.8740\n",
      "Epoch 23/70\n",
      "9/9 [==============================] - 0s 3ms/step - loss: 0.2894 - accuracy: 0.8817\n",
      "Epoch 24/70\n",
      "9/9 [==============================] - 0s 3ms/step - loss: 0.2720 - accuracy: 0.8931\n",
      "Epoch 25/70\n",
      "9/9 [==============================] - 0s 3ms/step - loss: 0.2547 - accuracy: 0.8969\n",
      "Epoch 26/70\n",
      "9/9 [==============================] - 0s 3ms/step - loss: 0.2471 - accuracy: 0.9122\n",
      "Epoch 27/70\n",
      "9/9 [==============================] - 0s 3ms/step - loss: 0.2288 - accuracy: 0.9008\n",
      "Epoch 28/70\n",
      "9/9 [==============================] - 0s 3ms/step - loss: 0.2180 - accuracy: 0.9084\n",
      "Epoch 29/70\n",
      "9/9 [==============================] - 0s 3ms/step - loss: 0.2031 - accuracy: 0.9237\n",
      "Epoch 30/70\n",
      "9/9 [==============================] - 0s 3ms/step - loss: 0.1925 - accuracy: 0.9198\n",
      "Epoch 31/70\n",
      "9/9 [==============================] - 0s 3ms/step - loss: 0.1813 - accuracy: 0.9237\n",
      "Epoch 32/70\n",
      "9/9 [==============================] - 0s 3ms/step - loss: 0.1699 - accuracy: 0.9427\n",
      "Epoch 33/70\n",
      "9/9 [==============================] - 0s 3ms/step - loss: 0.1625 - accuracy: 0.9351\n",
      "Epoch 34/70\n",
      "9/9 [==============================] - 0s 3ms/step - loss: 0.1571 - accuracy: 0.9427\n",
      "Epoch 35/70\n",
      "9/9 [==============================] - 0s 3ms/step - loss: 0.1491 - accuracy: 0.9504\n",
      "Epoch 36/70\n",
      "9/9 [==============================] - 0s 3ms/step - loss: 0.1414 - accuracy: 0.9389\n",
      "Epoch 37/70\n",
      "9/9 [==============================] - 0s 3ms/step - loss: 0.1296 - accuracy: 0.9466\n",
      "Epoch 38/70\n",
      "9/9 [==============================] - 0s 3ms/step - loss: 0.1240 - accuracy: 0.9466\n",
      "Epoch 39/70\n",
      "9/9 [==============================] - 0s 3ms/step - loss: 0.1193 - accuracy: 0.9466\n",
      "Epoch 40/70\n",
      "9/9 [==============================] - 0s 3ms/step - loss: 0.1106 - accuracy: 0.9504\n",
      "Epoch 41/70\n",
      "9/9 [==============================] - 0s 3ms/step - loss: 0.1106 - accuracy: 0.9504\n",
      "Epoch 42/70\n",
      "9/9 [==============================] - 0s 3ms/step - loss: 0.1065 - accuracy: 0.9580\n",
      "Epoch 43/70\n",
      "9/9 [==============================] - 0s 3ms/step - loss: 0.0978 - accuracy: 0.9580\n",
      "Epoch 44/70\n",
      "9/9 [==============================] - 0s 3ms/step - loss: 0.0944 - accuracy: 0.9580\n",
      "Epoch 45/70\n",
      "9/9 [==============================] - 0s 3ms/step - loss: 0.0883 - accuracy: 0.9695\n",
      "Epoch 46/70\n",
      "9/9 [==============================] - 0s 3ms/step - loss: 0.0869 - accuracy: 0.9580\n",
      "Epoch 47/70\n",
      "9/9 [==============================] - 0s 3ms/step - loss: 0.0834 - accuracy: 0.9695\n",
      "Epoch 48/70\n",
      "9/9 [==============================] - 0s 3ms/step - loss: 0.0790 - accuracy: 0.9618\n",
      "Epoch 49/70\n",
      "9/9 [==============================] - 0s 3ms/step - loss: 0.0760 - accuracy: 0.9618\n",
      "Epoch 50/70\n",
      "9/9 [==============================] - 0s 3ms/step - loss: 0.0902 - accuracy: 0.9542\n",
      "Epoch 51/70\n",
      "9/9 [==============================] - 0s 3ms/step - loss: 0.0695 - accuracy: 0.9771\n",
      "Epoch 52/70\n",
      "9/9 [==============================] - 0s 3ms/step - loss: 0.0697 - accuracy: 0.9695\n",
      "Epoch 53/70\n",
      "9/9 [==============================] - 0s 3ms/step - loss: 0.0626 - accuracy: 0.9809\n",
      "Epoch 54/70\n",
      "9/9 [==============================] - 0s 3ms/step - loss: 0.0654 - accuracy: 0.9656\n",
      "Epoch 55/70\n",
      "9/9 [==============================] - 0s 3ms/step - loss: 0.0628 - accuracy: 0.9809\n",
      "Epoch 56/70\n",
      "9/9 [==============================] - 0s 3ms/step - loss: 0.0580 - accuracy: 0.9733\n",
      "Epoch 57/70\n",
      "9/9 [==============================] - 0s 3ms/step - loss: 0.0563 - accuracy: 0.9809\n",
      "Epoch 58/70\n",
      "9/9 [==============================] - 0s 3ms/step - loss: 0.0517 - accuracy: 0.9809\n",
      "Epoch 59/70\n",
      "9/9 [==============================] - 0s 3ms/step - loss: 0.0530 - accuracy: 0.9809\n",
      "Epoch 60/70\n",
      "9/9 [==============================] - 0s 3ms/step - loss: 0.0498 - accuracy: 0.9885\n",
      "Epoch 61/70\n",
      "9/9 [==============================] - 0s 3ms/step - loss: 0.0480 - accuracy: 0.9885\n",
      "Epoch 62/70\n",
      "9/9 [==============================] - 0s 3ms/step - loss: 0.0479 - accuracy: 0.9847\n",
      "Epoch 63/70\n",
      "9/9 [==============================] - 0s 3ms/step - loss: 0.0453 - accuracy: 0.9885\n",
      "Epoch 64/70\n",
      "9/9 [==============================] - 0s 3ms/step - loss: 0.0469 - accuracy: 0.9847\n",
      "Epoch 65/70\n",
      "9/9 [==============================] - 0s 3ms/step - loss: 0.0469 - accuracy: 0.9924\n",
      "Epoch 66/70\n",
      "9/9 [==============================] - 0s 3ms/step - loss: 0.0430 - accuracy: 0.9847\n",
      "Epoch 67/70\n",
      "9/9 [==============================] - 0s 3ms/step - loss: 0.0415 - accuracy: 0.9847\n",
      "Epoch 68/70\n",
      "9/9 [==============================] - 0s 4ms/step - loss: 0.0404 - accuracy: 0.9885\n",
      "Epoch 69/70\n",
      "9/9 [==============================] - 0s 3ms/step - loss: 0.0395 - accuracy: 0.9847\n",
      "Epoch 70/70\n",
      "9/9 [==============================] - 0s 4ms/step - loss: 0.0381 - accuracy: 0.9885\n"
     ]
    }
   ],
   "source": [
    "hist = model.fit(x_train,y_train,callbacks=[early],epochs=70)"
   ]
  },
  {
   "cell_type": "code",
   "execution_count": 17,
   "id": "4be01621-70d8-4729-a4ee-6a1764f59f88",
   "metadata": {},
   "outputs": [
    {
     "data": {
      "image/png": "[encoded data removed]",
      "text/plain": [
       "<Figure size 432x288 with 2 Axes>"
      ]
     },
     "metadata": {
      "needs_background": "light"
     },
     "output_type": "display_data"
    }
   ],
   "source": [
    "fig, loss_ax = plt.subplots()\n",
    "acc_ax = loss_ax.twinx()\n",
    "\n",
    "loss_ax.plot(hist.history['loss'], 'y', label = 'train loss')\n",
    "# loss_ax.plot(hist.history['val_loss'], 'r', label = 'val loss')\n",
    "acc_ax.plot(hist.history['accuracy'], 'b', label = 'train accuracy')\n",
    "# acc_ax.plot(hist.history['val_accuracy'], 'g', label = 'val accuracy')\n",
    "\n",
    "loss_ax.set_xlabel('epoch')\n",
    "loss_ax.set_ylabel('loss')\n",
    "acc_ax.set_xlabel('accuracy')\n",
    "\n",
    "loss_ax.legend(loc = 'upper left')\n",
    "acc_ax.legend(loc = 'lower left')\n",
    "\n",
    "plt.show()"
   ]
  },
  {
   "cell_type": "code",
   "execution_count": 18,
   "id": "971e792e-abe0-4e31-a08c-91447057b15a",
   "metadata": {},
   "outputs": [
    {
     "name": "stdout",
     "output_type": "stream",
     "text": [
      "6/6 [==============================] - 0s 2ms/step\n",
      "Done.\n"
     ]
    }
   ],
   "source": [
    "preds = model.predict(x_test)\n",
    "print('Done.')"
   ]
  },
  {
   "cell_type": "code",
   "execution_count": 19,
   "id": "4fd0adb4-81ad-4474-8d31-51dff217f5c0",
   "metadata": {},
   "outputs": [],
   "source": [
    "submit = pd.read_csv('데이콘_유전체/open (1)/sample_submission.csv')"
   ]
  },
  {
   "cell_type": "code",
   "execution_count": 20,
   "id": "7a6dc37e-a105-480d-b688-aa2a718596ec",
   "metadata": {},
   "outputs": [],
   "source": [
    "result = []\n",
    "for i in range(len(preds)) :\n",
    "    if np.argmax(preds[i]) == 0 :\n",
    "        result.append('A')\n",
    "    elif np.argmax(preds[i]) == 1 :\n",
    "        result.append('B')\n",
    "    elif np.argmax(preds[i]) == 2 :\n",
    "        result.append('C')"
   ]
  },
  {
   "cell_type": "code",
   "execution_count": 21,
   "id": "2875bcba-91d1-4ecc-a839-370a16f14b54",
   "metadata": {},
   "outputs": [],
   "source": [
    "submit['class'] = result"
   ]
  },
  {
   "cell_type": "code",
   "execution_count": 25,
   "id": "58d59d36-c023-4ded-8734-bd7cef2efc01",
   "metadata": {},
   "outputs": [],
   "source": [
    "submit.to_csv('데이콘_유전체/제출/submit.csv', index=False)"
   ]
  },
  {
   "cell_type": "code",
   "execution_count": null,
   "id": "7c5e32d2-a90f-4134-abb9-a146bcbdfe2f",
   "metadata": {},
   "outputs": [],
   "source": []
  },
  {
   "cell_type": "code",
   "execution_count": null,
   "id": "088aafe4-eaaa-4744-936e-90317b36730b",
   "metadata": {},
   "outputs": [],
   "source": []
  }
 ],
 "metadata": {
  "kernelspec": {
   "display_name": "Python 3 (ipykernel)",
   "language": "python",
   "name": "python3"
  },
  "language_info": {
   "codemirror_mode": {
    "name": "ipython",
    "version": 3
   },
   "file_extension": ".py",
   "mimetype": "text/x-python",
   "name": "python",
   "nbconvert_exporter": "python",
   "pygments_lexer": "ipython3",
   "version": "3.9.12"
  }
 },
 "nbformat": 4,
 "nbformat_minor": 5
}
